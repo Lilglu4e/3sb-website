{
 "cells": [
  {
   "cell_type": "markdown",
   "metadata": {},
   "source": [
    "# 3 Style Blind"
   ]
  },
  {
   "cell_type": "code",
   "execution_count": 84,
   "metadata": {},
   "outputs": [],
   "source": [
    "import pandas as pd\n",
    "import numpy as np"
   ]
  },
  {
   "cell_type": "code",
   "execution_count": 85,
   "metadata": {},
   "outputs": [
    {
     "data": {
      "text/plain": [
       "'X'"
      ]
     },
     "execution_count": 85,
     "metadata": {},
     "output_type": "execute_result"
    }
   ],
   "source": [
    "DICT = \\\n",
    "{\n",
    "    'A': 2, 'B': 3, 'C': 4, 'D': 5, 'E': 6, 'F': 7, 'G': 8, 'H': 9, 'I': 10, \n",
    "    'J': 11,'K': 12, 'L': 13, 'M': 14, 'N': 15, 'O': 16, 'P': 17, 'Q': 18, \n",
    "    'R': 19, 'S': 20, 'T': 21, 'U': 22, 'V': 23, 'W': 24, 'X': 25\n",
    "}   \n",
    "\n",
    "DICT_key = \\\n",
    "{\n",
    "    2: 'A', 3: 'B', 4: 'C', 5: 'D', 6: 'E', 7: 'F', 8: 'G', 9: 'H', 10: 'I', \n",
    "    11: 'J', 12: 'K', 13: 'L', 14: 'M', 15: 'N', 16: 'O', 17: 'P', 18: 'Q', \n",
    "    19: 'R', 20: 'S', 21: 'T', 22: 'U', 23: 'V', 24: 'W', 25: 'X'\n",
    "}\n",
    "\n",
    "values = \"abcdefghijklmnopqrstuvwx\".upper()\n",
    "values[23]\n"
   ]
  },
  {
   "cell_type": "code",
   "execution_count": 86,
   "metadata": {},
   "outputs": [],
   "source": [
    "path_data = './'\n",
    "\n",
    "##UF Types\n",
    "types = pd.DataFrame()\n",
    "types = pd.read_csv(\"./UF Types.csv\")\n",
    "\n",
    "##UF Comms\n",
    "comms = pd.DataFrame()\n",
    "comms = pd.read_csv(\"./UF comms.csv\")\n"
   ]
  },
  {
   "cell_type": "markdown",
   "metadata": {},
   "source": []
  },
  {
   "cell_type": "code",
   "execution_count": 87,
   "metadata": {},
   "outputs": [
    {
     "data": {
      "text/plain": [
       "\"[E , R U' R']\""
      ]
     },
     "execution_count": 87,
     "metadata": {},
     "output_type": "execute_result"
    }
   ],
   "source": [
    "letter = 'J'.upper()\n",
    "comms.at[DICT[letter] - 2, \"F\"]"
   ]
  },
  {
   "cell_type": "code",
   "execution_count": 91,
   "metadata": {},
   "outputs": [
    {
     "data": {
      "text/plain": [
       "[\"mx:  S-Swap [R2' : [S' , R F R']]\",\n",
       " \"np:  4-Mover [M' U' R' : [S , R2]]\",\n",
       " \"no:  S-Insert [U' S U , R]\"]"
      ]
     },
     "execution_count": 91,
     "metadata": {},
     "output_type": "execute_result"
    }
   ],
   "source": [
    "def get_cell_value(input_str, dataframeType, dataframeComms):\n",
    "    result = []\n",
    "    i = 0\n",
    "    while i < len(input_str):\n",
    "        result.append(f\"{input_str[i]}{input_str[i+1]}:  {dataframeType.at[DICT[input_str[i].upper()] - 2, input_str[i + 1].upper()]} {dataframeComms.at[DICT[input_str[i].upper()] - 2, input_str[i + 1].upper()]}\")\n",
    "        i += 2\n",
    "    return result[:len(result)]\n",
    "\n",
    "\n",
    "input_str = 'mx np no'.replace(\" \", \"\")\n",
    "value = get_cell_value(input_str, types, comms)\n",
    "value\n"
   ]
  }
 ],
 "metadata": {
  "kernelspec": {
   "display_name": "base",
   "language": "python",
   "name": "python3"
  },
  "language_info": {
   "codemirror_mode": {
    "name": "ipython",
    "version": 3
   },
   "file_extension": ".py",
   "mimetype": "text/x-python",
   "name": "python",
   "nbconvert_exporter": "python",
   "pygments_lexer": "ipython3",
   "version": "3.10.9"
  }
 },
 "nbformat": 4,
 "nbformat_minor": 2
}
