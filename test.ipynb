{
 "cells": [
  {
   "cell_type": "markdown",
   "metadata": {},
   "source": [
    "# 3 Style Blind"
   ]
  },
  {
   "cell_type": "code",
   "execution_count": 6,
   "metadata": {},
   "outputs": [],
   "source": [
    "import pandas as pd\n",
    "import numpy as np"
   ]
  },
  {
   "cell_type": "code",
   "execution_count": 7,
   "metadata": {},
   "outputs": [],
   "source": [
    "DICT = \\\n",
    "{\n",
    "    'A': 2, 'B': 3, 'C': 4, 'D': 5, 'E': 6, 'F': 7, 'G': 8, 'H': 9, 'I': 10, \n",
    "    'J': 11,'K': 12, 'L': 13, 'M': 14, 'N': 15, 'O': 16, 'P': 17, 'Q': 18, \n",
    "    'R': 19, 'S': 20, 'T': 21, 'U': 22, 'V': 23, 'W': 24, 'X': 25\n",
    "}   \n",
    "\n",
    "DICT_key = \\\n",
    "{\n",
    "    2: 'A', 3: 'B', 4: 'C', 5: 'D', 6: 'E', 7: 'F', 8: 'G', 9: 'H', 10: 'I', \n",
    "    11: 'J', 12: 'K', 13: 'L', 14: 'M', 15: 'N', 16: 'O', 17: 'P', 18: 'Q', \n",
    "    19: 'R', 20: 'S', 21: 'T', 22: 'U', 23: 'V', 24: 'W', 25: 'X'\n",
    "}\n",
    "\n",
    "values = \"abcdefghijklmnopqrstuvwx\".upper()\n",
    "# values[23]\n"
   ]
  },
  {
   "cell_type": "code",
   "execution_count": 14,
   "metadata": {},
   "outputs": [],
   "source": [
    "path_data = './'\n",
    "\n",
    "##UF Types\n",
    "UFtypes = pd.DataFrame()\n",
    "UFtypes = pd.read_csv(\"./UF Types.csv\")\n",
    "\n",
    "##UF Comms\n",
    "UFcomms = pd.DataFrame()\n",
    "UFcomms = pd.read_csv(\"./UF Comms.csv\")\n",
    "\n",
    "##UF Types\n",
    "UFRtypes = pd.DataFrame()\n",
    "UFRtypes = pd.read_csv(\"./UFR Types.csv\")\n",
    "\n",
    "##UF Comms\n",
    "UFRcomms = pd.DataFrame()\n",
    "UFRcomms = pd.read_csv(\"./UFR Comms.csv\")\n"
   ]
  },
  {
   "cell_type": "markdown",
   "metadata": {},
   "source": []
  },
  {
   "cell_type": "code",
   "execution_count": 16,
   "metadata": {},
   "outputs": [
    {
     "data": {
      "text/plain": [
       "\"[D R' : [F2 , R D' R' D]]\""
      ]
     },
     "execution_count": 16,
     "metadata": {},
     "output_type": "execute_result"
    }
   ],
   "source": [
    "letter = 'I'.upper()\n",
    "UFRcomms.at[DICT[letter] - 2, \"G\"]"
   ]
  },
  {
   "cell_type": "code",
   "execution_count": 10,
   "metadata": {},
   "outputs": [
    {
     "data": {
      "text/plain": [
       "[\"lb:  U-Swap [R E2 R' , U']\",\n",
       " \"xm:  S-Swap [R2' : [S' , R F R']]\",\n",
       " \"np:  4-Mover [M' U' R : [S , R2']]\",\n",
       " \"ps:  E-Swap [U l : [L' U' L , E']]\"]"
      ]
     },
     "execution_count": 10,
     "metadata": {},
     "output_type": "execute_result"
    }
   ],
   "source": [
    "def UF_get_cell_value(input_str, dataframeType, dataframeComms):\n",
    "    result = []\n",
    "    i = 0\n",
    "    while i < len(input_str):\n",
    "        result.append(f\"{input_str[i]}{input_str[i+1]}:  {dataframeType.at[DICT[input_str[i+1].upper()] - 2, input_str[i].upper()]} {dataframeComms.at[DICT[input_str[i+1].upper()] - 2, input_str[i].upper()]}\")\n",
    "        i += 2\n",
    "    return result[:len(result)]\n",
    "\n",
    "\n",
    "input_str = 'lb xm npps'.replace(\" \", \"\")\n",
    "value = UF_get_cell_value(input_str, UFtypes, UFcomms)\n",
    "value\n"
   ]
  },
  {
   "cell_type": "code",
   "execution_count": 17,
   "metadata": {},
   "outputs": [
    {
     "data": {
      "text/plain": [
       "[\"lb:  U-Top / D-Side [D : [U , R' D' R]]\",\n",
       " 'xm:  nan nan',\n",
       " \"np:  U-Side / D-Any [U' R' D U' : [R D' R' , U2]]\",\n",
       " \"ps:  D-Side / D-Side [U R' D' : [R U' R' , D']]\"]"
      ]
     },
     "execution_count": 17,
     "metadata": {},
     "output_type": "execute_result"
    }
   ],
   "source": [
    "def UFR_get_cell_value(input_str, dataframeType, dataframeComms):\n",
    "    result = []\n",
    "    i = 0\n",
    "    while i < len(input_str):\n",
    "        result.append(f\"{input_str[i]}{input_str[i+1]}:  {dataframeType.at[DICT[input_str[i+1].upper()] - 2, input_str[i].upper()]} {dataframeComms.at[DICT[input_str[i+1].upper()] - 2, input_str[i].upper()]}\")\n",
    "        i += 2\n",
    "    return result[:len(result)]\n",
    "\n",
    "\n",
    "input_str = 'lb xm npps'.replace(\" \", \"\")\n",
    "value = UFR_get_cell_value(input_str, UFRtypes, UFRcomms)\n",
    "value\n"
   ]
  }
 ],
 "metadata": {
  "kernelspec": {
   "display_name": "base",
   "language": "python",
   "name": "python3"
  },
  "language_info": {
   "codemirror_mode": {
    "name": "ipython",
    "version": 3
   },
   "file_extension": ".py",
   "mimetype": "text/x-python",
   "name": "python",
   "nbconvert_exporter": "python",
   "pygments_lexer": "ipython3",
   "version": "3.10.9"
  }
 },
 "nbformat": 4,
 "nbformat_minor": 2
}
